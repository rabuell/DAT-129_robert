{
 "cells": [
  {
   "cell_type": "markdown",
   "metadata": {},
   "source": [
    "Write a program will except input to select a chosen data set and a JSON-encoded search criteria to select records from the chosen data set.  The write the matches from the search to a JSON file."
   ]
  },
  {
   "cell_type": "code",
   "execution_count": 1,
   "metadata": {},
   "outputs": [],
   "source": [
    "\n",
    "import json\n",
    "import csv\n",
    "#import pandas as pd\n",
    "from pprint import pprint as pp"
   ]
  },
  {
   "cell_type": "code",
   "execution_count": 2,
   "metadata": {},
   "outputs": [],
   "source": [
    "# prompt the user for dataset path name and read file in order to determine it is a valid path name\n",
    "def path_names(file_type):\n",
    "    '''\n",
    "    prompt the user for chosen dataset path name and read file in order to determine it is a valid path name\n",
    "    input parameter is 'data' to prompt for name of data file otherwise will prompt for search file name\n",
    "    returns the name of the validiated file name    \n",
    "    '''\n",
    "    not_validiated = True\n",
    "    while not_validiated:\n",
    "        if file_type == 'data':\n",
    "            path_name_s = (input('Enter a path for the input file: \\n'))\n",
    "        else:\n",
    "            path_name_s = (input('Enter a path for the search file: \\n'))    \n",
    "        if len(path_name_s) > 0:\n",
    "            try:\n",
    "                file = open(path_name_s, 'r')\n",
    "                line = file.read()\n",
    "                open_file = True\n",
    "                file.close()\n",
    "            except:\n",
    "                print(\"I/O Error on read of file, please try again\")\n",
    "                open_file = False\n",
    "            finally:\n",
    "                #print('open_file', open_file)\n",
    "                if open_file:\n",
    "                    not_validiated = False \n",
    "    return path_name_s"
   ]
  },
  {
   "cell_type": "code",
   "execution_count": 3,
   "metadata": {},
   "outputs": [],
   "source": [
    "def build_search_criteria(search_file_path):\n",
    "    '''\n",
    "    reads the json search file and begins the search of the data file\n",
    "    input - file path name for search file\n",
    "    returns - results of the search in a json file    \n",
    "    '''\n",
    "    with open(search_file_path) as json_data:\n",
    "        sc_dict = json.load(json_data)\n",
    "        return sc_dict"
   ]
  },
  {
   "cell_type": "code",
   "execution_count": 4,
   "metadata": {},
   "outputs": [],
   "source": [
    "def process_search(search_file_path, input_file_path):\n",
    "    '''\n",
    "    reads the json search file and begins the search of the data file\n",
    "    input - file path name for search file\n",
    "    returns - results of the search in a json file    \n",
    "    '''\n",
    "    \n",
    "    search_criteria_dict = build_search_criteria(search_file_path)\n",
    "    pp(search_criteria_dict)\n",
    "    print('first key', search_criteria_dict.keys())\n",
    "    x = search_criteria_dict.get(\"search_value_1\")\n",
    "    print('first item', x)\n",
    "    x_1 = x.get(\"field_name\")\n",
    "    print('first search item', x_1)\n",
    "    x_2 = x.items()\n",
    "    print('items', x_2)\n",
    "    for y in x_2:\n",
    "        print('Y pair', y)\n",
    "        print('value of Y pair', y[1])"
   ]
  },
  {
   "cell_type": "code",
   "execution_count": null,
   "metadata": {},
   "outputs": [],
   "source": []
  },
  {
   "cell_type": "code",
   "execution_count": 5,
   "metadata": {},
   "outputs": [
    {
     "name": "stdout",
     "output_type": "stream",
     "text": [
      "Enter a path for the input file: \n",
      "C:\\Users\\Robert Buell\\DAT-129_robert\\Data\\CPI.csv\n",
      "C:\\Users\\Robert Buell\\DAT-129_robert\\Data\\CPI.csv\n",
      "Enter a path for the search file: \n",
      "C:\\Users\\Robert Buell\\DAT-129_robert\\Data\\search_criteria.json\n",
      "C:\\Users\\Robert Buell\\DAT-129_robert\\Data\\search_criteria.json\n",
      "{'search_value_1': {'field_action': '>',\n",
      "                    'field_name': 'Lowest',\n",
      "                    'field_value': '23000'},\n",
      " 'search_value_2': {'field_action': '>',\n",
      "                    'field_name': 'Second',\n",
      "                    'field_value': '45000'}}\n",
      "first key dict_keys(['search_value_1', 'search_value_2'])\n",
      "first item {'field_name': 'Lowest', 'field_value': '23000', 'field_action': '>'}\n",
      "first search item Lowest\n",
      "items dict_items([('field_name', 'Lowest'), ('field_value', '23000'), ('field_action', '>')])\n",
      "Y pair ('field_name', 'Lowest')\n",
      "value of Y pair Lowest\n",
      "Y pair ('field_value', '23000')\n",
      "value of Y pair 23000\n",
      "Y pair ('field_action', '>')\n",
      "value of Y pair >\n"
     ]
    }
   ],
   "source": [
    "#main code\n",
    "#file path name - C:\\Users\\Robert Buell\\DAT-129_robert\\Data\\CPI.csv\n",
    "input_file_path = path_names('data')\n",
    "print(input_file_path)\n",
    "#file path name - C:\\Users\\Robert Buell\\DAT-129_robert\\Data\\search_criteria.json\n",
    "search_file_path = path_names('search')\n",
    "print(search_file_path)\n",
    "\n",
    "process_search(search_file_path, input_file_path )"
   ]
  },
  {
   "cell_type": "code",
   "execution_count": null,
   "metadata": {},
   "outputs": [],
   "source": []
  }
 ],
 "metadata": {
  "kernelspec": {
   "display_name": "Python 3",
   "language": "python",
   "name": "python3"
  },
  "language_info": {
   "codemirror_mode": {
    "name": "ipython",
    "version": 3
   },
   "file_extension": ".py",
   "mimetype": "text/x-python",
   "name": "python",
   "nbconvert_exporter": "python",
   "pygments_lexer": "ipython3",
   "version": "3.8.5"
  }
 },
 "nbformat": 4,
 "nbformat_minor": 4
}
