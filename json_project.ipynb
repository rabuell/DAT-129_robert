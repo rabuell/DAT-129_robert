{
 "cells": [
  {
   "cell_type": "markdown",
   "metadata": {},
   "source": [
    "Write a program will except input to select a chosen data set and a JSON-encoded search criteria to select records from the chosen data set.  The write the matches from the search to a JSON file."
   ]
  },
  {
   "cell_type": "code",
   "execution_count": 1,
   "metadata": {},
   "outputs": [],
   "source": [
    "import csv\n",
    "import pandas as pd\n",
    "from pathlib import Path"
   ]
  },
  {
   "cell_type": "code",
   "execution_count": 2,
   "metadata": {},
   "outputs": [],
   "source": [
    "# prompt the user for dataset path name and read file in order to determine it is a valid path name\n",
    "def path_names(file_type):\n",
    "    '''\n",
    "    prompt the user for chosen dataset path name and read file in order to determine it is a valid path name\n",
    "    \n",
    "        \n",
    "    '''\n",
    "    not_validiated = True\n",
    "    while not_validiated:\n",
    "        if file_type == 'input':\n",
    "            path_name_s = (input('Enter a path for the input file: \\n'))\n",
    "        else:\n",
    "            path_name_s = (input('Enter a path for the search file: \\n'))    \n",
    "        if len(path_name_s) > 0:\n",
    "            try:\n",
    "                with open(path_name_s, 'w', newline='') as file:\n",
    "                    #csvwriter = csv.writer(file)\n",
    "                    #csvwriter.writerow(header)\n",
    "                    not_validiated = False\n",
    "                    break\n",
    "            except IOError:\n",
    "                print(\"I/O Error on read of file, please try again\")\n",
    "    return path_name_s"
   ]
  },
  {
   "cell_type": "code",
   "execution_count": null,
   "metadata": {},
   "outputs": [],
   "source": []
  },
  {
   "cell_type": "code",
   "execution_count": 3,
   "metadata": {},
   "outputs": [
    {
     "name": "stdout",
     "output_type": "stream",
     "text": [
      "Enter a path for the input file: \n",
      "myfiles.json\n",
      "myfiles.json\n"
     ]
    }
   ],
   "source": [
    "#main code\n",
    "input_file_path = path_names('input')\n",
    "print(input_file_path)"
   ]
  }
 ],
 "metadata": {
  "kernelspec": {
   "display_name": "Python 3",
   "language": "python",
   "name": "python3"
  },
  "language_info": {
   "codemirror_mode": {
    "name": "ipython",
    "version": 3
   },
   "file_extension": ".py",
   "mimetype": "text/x-python",
   "name": "python",
   "nbconvert_exporter": "python",
   "pygments_lexer": "ipython3",
   "version": "3.8.5"
  }
 },
 "nbformat": 4,
 "nbformat_minor": 4
}
