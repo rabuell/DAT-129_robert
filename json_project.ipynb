{
 "cells": [
  {
   "cell_type": "markdown",
   "metadata": {},
   "source": [
    "Write a program will except input to select a chosen data set and a JSON-encoded search criteria to select records from the chosen data set.  The write the matches from the search to a JSON file."
   ]
  },
  {
   "cell_type": "code",
   "execution_count": null,
   "metadata": {},
   "outputs": [],
   "source": [
    "import pandas as pd\n",
    "from pathlib import Path"
   ]
  },
  {
   "cell_type": "code",
   "execution_count": 1,
   "metadata": {},
   "outputs": [],
   "source": [
    "# prompt the user for dataset path name and read file in order to determine it is a valid path name\n",
    "def path_names():\n",
    "    '''\n",
    "    prompt the user for chosen dataset path name and read file in order to determine it is a valid path name\n",
    "    \n",
    "        \n",
    "    '''\n",
    "    not_validiated = True\n",
    "    while not_validiated:\n",
    "    "
   ]
  },
  {
   "cell_type": "code",
   "execution_count": null,
   "metadata": {},
   "outputs": [],
   "source": [
    "# prompt the user for chosen dataset path name and JSON-encoded search criteria dataset path name\n",
    "def path_names():\n",
    "    '''\n",
    "    prompt the user for chosen dataset path name and JSON-encoded search criteria dataset path name\n",
    "    \n",
    "    \n",
    "    '''"
   ]
  }
 ],
 "metadata": {
  "kernelspec": {
   "display_name": "Python 3",
   "language": "python",
   "name": "python3"
  },
  "language_info": {
   "codemirror_mode": {
    "name": "ipython",
    "version": 3
   },
   "file_extension": ".py",
   "mimetype": "text/x-python",
   "name": "python",
   "nbconvert_exporter": "python",
   "pygments_lexer": "ipython3",
   "version": "3.8.5"
  }
 },
 "nbformat": 4,
 "nbformat_minor": 4
}
