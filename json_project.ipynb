{
 "cells": [
  {
   "cell_type": "markdown",
   "metadata": {},
   "source": [
    "Write a program will except input to select a chosen data set and a JSON-encoded search criteria to select records from the chosen data set.  The write the matches from the search to a JSON file."
   ]
  },
  {
   "cell_type": "code",
   "execution_count": 1,
   "metadata": {},
   "outputs": [],
   "source": [
    "\n",
    "import json\n",
    "import csv\n",
    "#import pandas as pd\n",
    "from pprint import pprint as pp"
   ]
  },
  {
   "cell_type": "code",
   "execution_count": 2,
   "metadata": {},
   "outputs": [],
   "source": [
    "# prompt the user for dataset path name and read file in order to determine it is a valid path name\n",
    "def path_names(file_type):\n",
    "    '''\n",
    "    prompt the user for chosen dataset path name and read file in order to determine it is a valid path name\n",
    "    input parameter is 'data' to prompt for name of data file otherwise will prompt for search file name\n",
    "    returns the name of the validiated file name    \n",
    "    '''\n",
    "    not_validiated = True\n",
    "    while not_validiated:\n",
    "        if file_type == 'data':\n",
    "            path_name_s = (input('Enter a path for the input file: \\n'))\n",
    "        else:\n",
    "            path_name_s = (input('Enter a path for the search file: \\n'))    \n",
    "        if len(path_name_s) > 0:\n",
    "            try:\n",
    "                file = open(path_name_s, 'r')\n",
    "                line = file.read()\n",
    "                open_file = True\n",
    "                file.close()\n",
    "            except:\n",
    "                print(\"I/O Error on read of file, please try again\")\n",
    "                open_file = False\n",
    "            finally:\n",
    "                #print('open_file', open_file)\n",
    "                if open_file:\n",
    "                    not_validiated = False \n",
    "    return path_name_s"
   ]
  },
  {
   "cell_type": "code",
   "execution_count": 3,
   "metadata": {},
   "outputs": [],
   "source": [
    "def build_search_criteria(search_file_path):\n",
    "    '''\n",
    "    reads the json search file and begins the search of the data file\n",
    "    input - file path name for search file\n",
    "    returns - results of the search in a json file    \n",
    "    '''\n",
    "    with open(search_file_path) as json_data:\n",
    "        sc_dict = json.load(json_data)\n",
    "        return sc_dict"
   ]
  },
  {
   "cell_type": "code",
   "execution_count": 4,
   "metadata": {},
   "outputs": [
    {
     "ename": "SyntaxError",
     "evalue": "invalid syntax (<ipython-input-4-7f6da50568a3>, line 1)",
     "output_type": "error",
     "traceback": [
      "\u001b[1;36m  File \u001b[1;32m\"<ipython-input-4-7f6da50568a3>\"\u001b[1;36m, line \u001b[1;32m1\u001b[0m\n\u001b[1;33m    def search_csv(search_field, search_value, search_action)\u001b[0m\n\u001b[1;37m                                                             ^\u001b[0m\n\u001b[1;31mSyntaxError\u001b[0m\u001b[1;31m:\u001b[0m invalid syntax\n"
     ]
    }
   ],
   "source": [
    "def search_csv(search_field, search_value, search_action)\n",
    "    '''\n",
    "    reads the CSV dictionary with input search values\n",
    "    input - search_field, search_value, search_action\n",
    "    returns - results of the search in a json file    \n",
    "    '''"
   ]
  },
  {
   "cell_type": "code",
   "execution_count": null,
   "metadata": {},
   "outputs": [],
   "source": [
    "def process_search(search_file_path, input_file_path):\n",
    "    '''\n",
    "    reads the json search file and begins the search of the data file\n",
    "    input - file path name for search file\n",
    "    returns - results of the search in a json file    \n",
    "    '''\n",
    "    \n",
    "    search_criteria_dict = build_search_criteria(search_file_path)\n",
    "    #pp(search_criteria_dict)\n",
    "    #print('first key', search_criteria_dict.keys())\n",
    "    #x = search_criteria_dict.get(\"search_value_1\")\n",
    "    #print('first item', x)\n",
    "    #x_1 = x.get(\"field_name\")\n",
    "    #print('first search item', x_1)\n",
    "    #x_2 = x.items()\n",
    "    #print('items', x_2)\n",
    "    #for z in x_2:\n",
    "        #print('z pair', z)\n",
    "        #print('value of z pair', z[1])\n",
    "    # build list of dictionary keys    \n",
    "    keys = search_criteria_dict.keys() \n",
    "    #print('all keys',keys)\n",
    "    #get search values by looping thru search dictionary\n",
    "    for main_key in keys:\n",
    "        search_keys = search_criteria_dict.get(main_key)\n",
    "        #print('search_keys',search_keys)\n",
    "        search_item = search_keys.items() \n",
    "        #print('search_items',search_item)\n",
    "        print(len(search_item))\n",
    "        search_field = ' '\n",
    "        search_value = ' '\n",
    "        search_action = ' '\n",
    "        for y in search_item:\n",
    "            #print('Y pair', y)\n",
    "            #print('value of Y pair', y[1])\n",
    "            if y[0] == 'field_name':\n",
    "                search_field = y[1]\n",
    "            elif y[0] == 'field_value':\n",
    "                search_value = y[1] \n",
    "            elif y[0] == 'field_action':\n",
    "                search_action = y[1] \n",
    "            else: \n",
    "                format_error = True\n",
    "        if not format_error:\n",
    "            print(search_field, search_value, search_action) \n",
    "            # call search_routine three search values\n",
    "            search_csv(search_field, search_value, search_action)\n",
    "        else:\n",
    "            Print('malformed search criteria, search bypassed', search_item)\n",
    "        \n",
    "           "
   ]
  },
  {
   "cell_type": "code",
   "execution_count": null,
   "metadata": {},
   "outputs": [],
   "source": []
  },
  {
   "cell_type": "code",
   "execution_count": null,
   "metadata": {},
   "outputs": [],
   "source": [
    "#main code\n",
    "#file path name - C:\\Users\\Robert Buell\\DAT-129_robert\\Data\\CPI.csv\n",
    "input_file_path = path_names('data')\n",
    "print(input_file_path)\n",
    "#file path name - C:\\Users\\Robert Buell\\DAT-129_robert\\Data\\search_criteria.json\n",
    "search_file_path = path_names('search')\n",
    "print(search_file_path)\n",
    "\n",
    "process_search(search_file_path, input_file_path )"
   ]
  },
  {
   "cell_type": "code",
   "execution_count": null,
   "metadata": {},
   "outputs": [],
   "source": []
  },
  {
   "cell_type": "code",
   "execution_count": null,
   "metadata": {},
   "outputs": [],
   "source": []
  }
 ],
 "metadata": {
  "kernelspec": {
   "display_name": "Python 3",
   "language": "python",
   "name": "python3"
  },
  "language_info": {
   "codemirror_mode": {
    "name": "ipython",
    "version": 3
   },
   "file_extension": ".py",
   "mimetype": "text/x-python",
   "name": "python",
   "nbconvert_exporter": "python",
   "pygments_lexer": "ipython3",
   "version": "3.8.5"
  }
 },
 "nbformat": 4,
 "nbformat_minor": 4
}
