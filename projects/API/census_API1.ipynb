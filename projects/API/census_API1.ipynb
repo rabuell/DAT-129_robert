{
 "cells": [
  {
   "cell_type": "code",
   "execution_count": 1,
   "metadata": {},
   "outputs": [],
   "source": [
    "import requests\n",
    "import csv \n",
    "import pandas as pd\n",
    "import numpy as np\n",
    "import matplotlib.pyplot as plt\n",
    "import json\n",
    "from pprint import pprint as pp"
   ]
  },
  {
   "cell_type": "code",
   "execution_count": 2,
   "metadata": {},
   "outputs": [],
   "source": [
    "def call_census(endpoint_ext):\n",
    "    '''\n",
    "    Call census api for American Community Survey (ACS) Year=2019 and Data Profiles tables\n",
    "    Returns JSON format results\n",
    "    '''\n",
    "    races = 'DP05_0037E,DP05_0038E,DP05_0039E,DP05_0044E,DP05_0052E,DP05_0057E,DP05_0071E'\n",
    "    root = 'https://api.census.gov/data/2019/acs/acs5/profile?get=NAME,'\n",
    "    url = root + races + endpoint_ext\n",
    "    response = requests.get(url)\n",
    "    #print(url)\n",
    "    #print(response)\n",
    "    if (int(response.status_code)==200):\n",
    "        #print('response',response.text)\n",
    "        return response.text\n",
    "    else:\n",
    "        raise Exception(\"Non 200 status code\") "
   ]
  },
  {
   "cell_type": "code",
   "execution_count": 3,
   "metadata": {},
   "outputs": [],
   "source": [
    "def get_population(state_num):\n",
    "    '''\n",
    "    builds variable for all counties within the selected state \n",
    "    Returns JSON format results\n",
    "    '''\n",
    "    county_state = '&for=county:003,077&in=state:' + state_num\n",
    "    raw_response = call_census(county_state)\n",
    "    #json_response = json.loads(raw_response)\n",
    "    return raw_response"
   ]
  },
  {
   "cell_type": "code",
   "execution_count": 4,
   "metadata": {},
   "outputs": [],
   "source": [
    "def lists_from_dictionary(values):\n",
    "    #create two lists from each dictionary entry\n",
    "    \n",
    "    list1 = values[0]\n",
    "    list2 = values[1]\n",
    "    len1 = len(list1)\n",
    "    len2 = len(list2)\n",
    "    pop_var = []\n",
    "    ret_list1 = []\n",
    "    ret_list2 = []\n",
    "    #print('values1',list1)\n",
    "    #print('len1',len1)\n",
    "    #print('values2',list2)\n",
    "    \n",
    "    for x in range(len1):\n",
    "        item = list1[x]\n",
    "        #print('item',x,item)\n",
    "        #print('item[0]',item[0])\n",
    "        pop_var.append(item[0])\n",
    "        ret_list1.append(item[1]) \n",
    "        #print('pop_var',pop_var)\n",
    "        \n",
    "    for x in range(len2):\n",
    "        #print('x2',x)\n",
    "        item = list2[x]\n",
    "        ret_list2.append(item[1]) \n",
    "        \n",
    "    per_list1 = []  \n",
    "    total1 = sum(ret_list1)\n",
    "    #print('total1', total1)\n",
    "    for x in range(len1):\n",
    "        item = ret_list1[x]\n",
    "        #print('item',x,item)\n",
    "        percent = round(((item /total1)*100), 2)\n",
    "        per_list1.append(percent)    \n",
    "    \n",
    "    per_list2 = []  \n",
    "    total2 = sum(ret_list2)\n",
    "    #print('total2', total2)\n",
    "    for x in range(len2):\n",
    "        item = ret_list2[x]\n",
    "        #print('item',x,item)\n",
    "        percent = round(((item /total2)*100), 2)\n",
    "        per_list2.append(percent)\n",
    "        \n",
    "    #print('per_list1',per_list1)\n",
    "    #print('per_list2',per_list2)\n",
    "    #print('ret_list2',ret_list2)\n",
    "    return pop_var, per_list1, per_list2"
   ]
  },
  {
   "cell_type": "code",
   "execution_count": 5,
   "metadata": {},
   "outputs": [],
   "source": [
    "def values_for_graph(json_file):\n",
    "    '''\n",
    "    creates dictionary from census data\n",
    "    creates values for graph\n",
    "    '''\n",
    "    census_dict = {}\n",
    "    \n",
    "    census_data = json.loads(json_file)\n",
    "       \n",
    "    names_list = []\n",
    "    for x, row in enumerate(census_data):\n",
    "        #print('row_data',row)\n",
    "        row_len = len(row)\n",
    "        census_list = []\n",
    "        \n",
    "        for y, column in enumerate(row):\n",
    "            # use county name as dictionary key  \n",
    "            if x == 0:\n",
    "                #save population variable names\n",
    "                if y <(row_len-2):\n",
    "                    names_list.append(row[y]) \n",
    "            if x > 0:\n",
    "                #print('names_list',names_list)\n",
    "                #use first word as key\n",
    "                cnty_words = row[0].split()\n",
    "                census_dict_key = cnty_words[0]\n",
    "                #print('key',census_dict_key)\n",
    "                # build list of [variable_name,population_value], ignore last two columns    \n",
    "                if y > 0 and y <(row_len-2):\n",
    "                    if row[y]== '-999999999':\n",
    "                        row[y] = '0'\n",
    "                    census_list.append([names_list[y],int(row[y])])\n",
    "        if x > 0:            \n",
    "            #print('census_list',census_list)        \n",
    "            census_dict[census_dict_key] = census_list                        \n",
    "                 \n",
    "    #print('header',header_list)\n",
    "    \n",
    "#create values for graphs\n",
    "    legend_names = list(census_dict.keys())\n",
    "    #print('legends',legend_names)\n",
    "    values = list(census_dict.values())\n",
    "    #print('values', values)\n",
    "    pop_variables, bar1_list, bar2_list = lists_from_dictionary(values)\n",
    "    \n",
    "    #print('bar1_list',bar1_list)\n",
    "    #print('bar2_list',bar2_list)\n",
    "    \n",
    "        \n",
    "    variables_names = ['DP05_0037E','DP05_0038E','DP05_0039E','DP05_0044E','DP05_0052E','DP05_0057E','DP05_0071E']\n",
    "    pop_variables_names = ['white','black','native amer', 'asian', 'pacific is', 'other','hispanic']\n",
    "    zipped = zip(variables_names,pop_variables_names)\n",
    "    lookup_list = list(zipped)\n",
    "    #print('lookup_list',lookup_list)   \n",
    "    \n",
    "    #lookup population name from lookup_list\n",
    "    len3 = len(lookup_list)\n",
    "    names = []\n",
    "    for x in range(len3):\n",
    "        #print('x3',x)\n",
    "        item = lookup_list[x]\n",
    "        names.append(item[1])\n",
    "   \n",
    "    y_pos = np.arange(len(pop_variables))\n",
    "    #print('y_pos',y_pos)\n",
    "    #print('names',names)\n",
    "    return legend_names, names, bar1_list, bar2_list, y_pos"
   ]
  },
  {
   "cell_type": "code",
   "execution_count": 6,
   "metadata": {
    "scrolled": true
   },
   "outputs": [],
   "source": [
    "def graph_two_counties(l_names, x_names, l_bar1, l_bar2, y_pos):\n",
    "    #print('l_bar1',l_bar1)\n",
    "    #print('l_bar2',l_bar2)\n",
    "#graph total calls vs redacted calls\n",
    "    width=0.3\n",
    "    legend = l_names\n",
    "    bar1 = plt.bar(y_pos, l_bar1, width=width)\n",
    "    bar2 = plt.bar(y_pos+ width, l_bar2, width=width)\n",
    "    plt.grid(color='black', linestyle='--', linewidth=2, axis='y', alpha=0.7)\n",
    "    plt.xticks(y_pos, x_names)\n",
    "    plt.ylabel('Percentage')\n",
    "    plt.title('Population makeup for the requested counties')\n",
    "    #loc=0 is best position as determined by matplotlib\n",
    "    #i think loc=6 is better\n",
    "    plt.legend(legend,loc=0)\n",
    "    #add text to top of bar\n",
    "    for bar in bar1 + bar2:\n",
    "        height = bar.get_height()\n",
    "        plt.text(bar.get_x() + bar.get_width()/2, height,\n",
    "                 f'{height:,.0f}',\n",
    "                 ha='center',\n",
    "                 va='bottom')\n",
    "    plt.show()    "
   ]
  },
  {
   "cell_type": "code",
   "execution_count": 7,
   "metadata": {},
   "outputs": [
    {
     "data": {
      "image/png": "[encoded data removed]",
      "text/plain": [
       "<Figure size 432x288 with 1 Axes>"
      ]
     },
     "metadata": {
      "needs_background": "light"
     },
     "output_type": "display_data"
    }
   ],
   "source": [
    "#get census data for Pennsylvania -state code=42\n",
    "census_data = get_population('42')\n",
    "#https://api.census.gov/data/2019/acs/acs1/spp?get=NAME,S0201_001E&for=state:*\n",
    "#response = requests.get(url)\n",
    "#print(census_data)\n",
    "legend_names, names, bar1_list, bar2_list, y_pos = values_for_graph(census_data)\n",
    "#print('bar1_list',bar1_list)\n",
    "#print('bar2_list',bar2_list)\n",
    "graph_two_counties(legend_names, names, bar1_list, bar2_list, y_pos)"
   ]
  },
  {
   "cell_type": "code",
   "execution_count": 8,
   "metadata": {},
   "outputs": [
    {
     "data": {
      "text/plain": [
       "\"\\n#https://api.census.gov/data/2019/acs/acs1/spp?get=NAME,S0201_001E&for=congressional%20district:01&in=state:01\\n#https://api.census.gov/data/2019/acs/acs1/spp?get=NAME,S0201_001E&for=county:085&in=state:06\\n#POPGROUP\\n#https://api.census.gov/data/2019/acs/acs1/spp/variables/POPGROUP.json\\nurl = 'https://api.census.gov/data/2010/acs/acs1/spp?get=NAME,S0201_001E&for=congressional%20district:*&in=state:42'\\nurl2 = 'https://api.census.gov/data/2010/acs/acs1/spp?get=NAME,S0201_001E&for=popgroup:*&for=congressional%20district:*&in=state:42'\\nurl3 = 'https://api.census.gov/data/2019/pep/charagegroups?get=NAME,POP&for=state:42'\\nurl4 = 'https://api.census.gov/data/2019/acs/acs1?get=name,B02003_001E&for=state:42'\\nurl5 = 'https://api.census.gov/data/2019/acs/acs1?get=NAME,B02003_001E&for=county:*&in=state:42'\\nurl6 = 'https://api.census.gov/data/2019/acs/acs1/profile?get=NAME,DP05_0033E,DP05_0070E,DP05_0070PE&for=county:*&in=state:42'\\nurl7 = 'https://api.census.gov/data/2019/acs/acs5/profile?get=NAME,DP05_0033E,DP05_0070PE&for=county:*&in=state:42'\\nraces = 'DP05_0033E,DP05_0037E,DP05_0038E,DP05_0039E,DP05_0044E,DP05_0052E,DP05_0057E,DP05_0070E,DP05_0071E,DP05_0071PE'\\nroot = 'https://api.census.gov/data/2019/acs/acs1/profile?get=NAME,'\\ncounty_state = '&for=county:*&in=state:42'\\n#https://api.census.gov/data/2019/pep/charagegroups?get=NAME\\nurl = root + races + county_state\\nprint(url)\\n\\nresponse = requests.get(url)\\nprint(response)\\nprint(response.text)\\njson_data = json.loads(response.text)\\nprint(json_data)\\n\""
      ]
     },
     "execution_count": 8,
     "metadata": {},
     "output_type": "execute_result"
    }
   ],
   "source": [
    "'''\n",
    "#https://api.census.gov/data/2019/acs/acs1/spp?get=NAME,S0201_001E&for=congressional%20district:01&in=state:01\n",
    "#https://api.census.gov/data/2019/acs/acs1/spp?get=NAME,S0201_001E&for=county:085&in=state:06\n",
    "#POPGROUP\n",
    "#https://api.census.gov/data/2019/acs/acs1/spp/variables/POPGROUP.json\n",
    "url = 'https://api.census.gov/data/2010/acs/acs1/spp?get=NAME,S0201_001E&for=congressional%20district:*&in=state:42'\n",
    "url2 = 'https://api.census.gov/data/2010/acs/acs1/spp?get=NAME,S0201_001E&for=popgroup:*&for=congressional%20district:*&in=state:42'\n",
    "url3 = 'https://api.census.gov/data/2019/pep/charagegroups?get=NAME,POP&for=state:42'\n",
    "url4 = 'https://api.census.gov/data/2019/acs/acs1?get=name,B02003_001E&for=state:42'\n",
    "url5 = 'https://api.census.gov/data/2019/acs/acs1?get=NAME,B02003_001E&for=county:*&in=state:42'\n",
    "url6 = 'https://api.census.gov/data/2019/acs/acs1/profile?get=NAME,DP05_0033E,DP05_0070E,DP05_0070PE&for=county:*&in=state:42'\n",
    "url7 = 'https://api.census.gov/data/2019/acs/acs5/profile?get=NAME,DP05_0033E,DP05_0070PE&for=county:*&in=state:42'\n",
    "races = 'DP05_0033E,DP05_0037E,DP05_0038E,DP05_0039E,DP05_0044E,DP05_0052E,DP05_0057E,DP05_0070E,DP05_0071E,DP05_0071PE'\n",
    "root = 'https://api.census.gov/data/2019/acs/acs1/profile?get=NAME,'\n",
    "county_state = '&for=county:*&in=state:42'\n",
    "#https://api.census.gov/data/2019/pep/charagegroups?get=NAME\n",
    "url = root + races + county_state\n",
    "print(url)\n",
    "\n",
    "response = requests.get(url)\n",
    "print(response)\n",
    "print(response.text)\n",
    "json_data = json.loads(response.text)\n",
    "print(json_data)\n",
    "'''"
   ]
  },
  {
   "cell_type": "code",
   "execution_count": null,
   "metadata": {},
   "outputs": [],
   "source": []
  }
 ],
 "metadata": {
  "kernelspec": {
   "display_name": "Python 3",
   "language": "python",
   "name": "python3"
  },
  "language_info": {
   "codemirror_mode": {
    "name": "ipython",
    "version": 3
   },
   "file_extension": ".py",
   "mimetype": "text/x-python",
   "name": "python",
   "nbconvert_exporter": "python",
   "pygments_lexer": "ipython3",
   "version": "3.8.5"
  }
 },
 "nbformat": 4,
 "nbformat_minor": 4
}
