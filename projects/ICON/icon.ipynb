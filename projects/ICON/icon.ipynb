{
 "cells": [
  {
   "cell_type": "markdown",
   "metadata": {},
   "source": [
    "ICON project for DAT-129\n",
    "\n",
    "Purpose: Create a program in python that uses looping and basic data structures to display customized 10x10 student icons in various scales and orientations."
   ]
  },
  {
   "cell_type": "code",
   "execution_count": 1,
   "metadata": {},
   "outputs": [],
   "source": [
    "import numpy as np\n"
   ]
  },
  {
   "cell_type": "code",
   "execution_count": 2,
   "metadata": {},
   "outputs": [],
   "source": [
    "def print_icon(on_print_char, off_print_char,print_array):\n",
    "    '''\n",
    "    print the icon    \n",
    "    '''\n",
    "    # build string array using off_print_char as the initial value\n",
    "    output_array = np.full((10,10),off_print_char,dtype=str)\n",
    "    #print(output_array)\n",
    "    #print blank line\n",
    "    print('')\n",
    "    \n",
    "    for row in range(10):\n",
    "        print_line=''\n",
    "        for col in range(10):\n",
    "            #print('r/c', row, col)\n",
    "            if print_array[row,col] == 1:\n",
    "                output_array[row,col] = on_print_char \n",
    "            print_line=print_line+(str(output_array[row,col]))\n",
    "        print(print_line)\n",
    "    \n",
    "    "
   ]
  },
  {
   "cell_type": "code",
   "execution_count": 3,
   "metadata": {},
   "outputs": [],
   "source": [
    "def input_prompt():\n",
    "    '''\n",
    "    prompt the user for either keyboard input or test file input\n",
    "    returns the type of input    \n",
    "    '''\n",
    "    \n",
    "    not_validiated = True\n",
    "    while not_validiated:\n",
    "        input_value = (input('Enter \"k\" for keyboad input or \"f\" test file input: \\n'))\n",
    "        if input_value == 'k' or input_value == 'f':\n",
    "            not_validiated = False\n",
    "        else:\n",
    "            print('Not valid input, please try again')\n",
    "    \n",
    "    return input_value"
   ]
  },
  {
   "cell_type": "code",
   "execution_count": 4,
   "metadata": {},
   "outputs": [],
   "source": [
    "# prompt the user for dataset path name and read file in order to determine it is a valid path name\n",
    "def path_names():\n",
    "    '''\n",
    "    prompt the user for chosen dataset path name and read file in order to determine it is a valid path name\n",
    "    returns the name of the validiated file name    \n",
    "    '''\n",
    "    not_validiated = True\n",
    "    while not_validiated:\n",
    "        path_name_s = (input('Enter a path for the input test file: \\n'))\n",
    "          \n",
    "        if len(path_name_s) > 0:\n",
    "            try:\n",
    "                file = open(path_name_s, 'r')\n",
    "                line = file.read()\n",
    "                open_file = True\n",
    "                file.close()\n",
    "            except:\n",
    "                print(\"I/O Error on read of file, please try again\")\n",
    "                open_file = False\n",
    "            finally:\n",
    "                #print('open_file', open_file)\n",
    "                if open_file:\n",
    "                    not_validiated = False \n",
    "    return path_name_s"
   ]
  },
  {
   "cell_type": "code",
   "execution_count": 5,
   "metadata": {},
   "outputs": [],
   "source": [
    "# prompt the user for the 'on' and 'off' print characters\n",
    "def print_values():\n",
    "    '''\n",
    "    prompt the user for for the 'on' and 'off' print characters\n",
    "    returns the value of the 'on' and 'off' print characters    \n",
    "    '''\n",
    "    \n",
    "    not_validiated = True\n",
    "    print('Enter the values to be used as the on and off print characters.  The two values can not be same.')\n",
    "    while not_validiated:\n",
    "        \n",
    "        on_print_char = (input('Enter the \"on\" print character: \\n'))\n",
    "        off_print_char = (input('Enter the \"off\" print character: \\n'))\n",
    "        if on_print_char == ' ' or off_print_char == ' ':\n",
    "            print('The on or off values can not be spaces, please try again.')\n",
    "        elif len(on_print_char) > 0 and len(off_print_char) > 0:   \n",
    "            if on_print_char == off_print_char:\n",
    "                print('The on anc off values can not be same, please try again.')\n",
    "            else:\n",
    "                not_validiated = False\n",
    "        else:    \n",
    "            print('The on or off values can not be spaces, please try again.')\n",
    "            \n",
    "    return on_print_char, off_print_char        "
   ]
  },
  {
   "cell_type": "code",
   "execution_count": 6,
   "metadata": {},
   "outputs": [],
   "source": [
    "def test_file_input(input_file_path):\n",
    "    '''\n",
    "    prompt the user for for the 'on' and 'off' print characters\n",
    "    returns the value of the 'on' and 'off' print characters    \n",
    "    '''\n",
    "     # build empty array\n",
    "    test_array = np.zeros([10, 10])\n",
    "    #print('test_array',test_array)\n",
    "    \n",
    "    test_data = np.zeros([100])\n",
    "    test_data = np.loadtxt(input_file_path, dtype='int')\n",
    "    #print('test_data',test_data)\n",
    "    \n",
    "    position = 0\n",
    "    num_rows = 10\n",
    "    num_cols = 10\n",
    "    for row in range(10):\n",
    "        for col in range(10):\n",
    "            #print('r/c', row, col, position)\n",
    "            #print('test data', test_data[position])\n",
    "            array_position = [int(num_cols * row + col)]\n",
    "            np.put(test_array, array_position, test_data[position])\n",
    "            position += 1\n",
    "        \n",
    "    return test_array    "
   ]
  },
  {
   "cell_type": "code",
   "execution_count": 7,
   "metadata": {},
   "outputs": [
    {
     "name": "stdout",
     "output_type": "stream",
     "text": [
      "Enter the values to be used as the on and off print characters.  The two values can not be same.\n",
      "Enter the \"on\" print character: \n",
      "+\n",
      "Enter the \"off\" print character: \n",
      "_\n",
      "on/off + _\n",
      "Enter \"k\" for keyboad input or \"f\" test file input: \n",
      "f\n",
      "Enter a path for the input test file: \n",
      "C:\\Users\\Robert Buell\\DAT-129_robert\\projects\\ICON\\Data\\test_file_pens3.txt\n",
      "\n",
      "+++__+__+_\n",
      "+_+__++_+_\n",
      "+++__+_++_\n",
      "+____+__+_\n",
      "+_+++_____\n",
      "__+___+++_\n",
      "__+++_+___\n",
      "__+___+++_\n",
      "__+++___+_\n",
      "______+++_\n"
     ]
    }
   ],
   "source": [
    "#main code\n",
    "\n",
    "#initialize the working_array area\n",
    "\n",
    "working_array = np.zeros([10, 10])\n",
    "\n",
    "#prompt the user for print charancter values\n",
    "on_value, off_value = print_values()\n",
    "print('on/off', on_value , off_value)\n",
    "\n",
    "input_type = input_prompt()\n",
    "\n",
    "# prompt user for test file name\n",
    "if input_type == 'f':\n",
    "    input_file_path = path_names()\n",
    "    #print('Test input file path name ', input_file_path)\n",
    "    working_array = np.array(test_file_input(input_file_path))\n",
    "    #print('work arrary', working_array)\n",
    "    \n",
    "print_icon(on_value, off_value, working_array)    "
   ]
  },
  {
   "cell_type": "code",
   "execution_count": null,
   "metadata": {},
   "outputs": [],
   "source": []
  }
 ],
 "metadata": {
  "kernelspec": {
   "display_name": "Python 3",
   "language": "python",
   "name": "python3"
  },
  "language_info": {
   "codemirror_mode": {
    "name": "ipython",
    "version": 3
   },
   "file_extension": ".py",
   "mimetype": "text/x-python",
   "name": "python",
   "nbconvert_exporter": "python",
   "pygments_lexer": "ipython3",
   "version": "3.8.5"
  }
 },
 "nbformat": 4,
 "nbformat_minor": 4
}
