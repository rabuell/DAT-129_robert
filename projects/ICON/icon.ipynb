{
 "cells": [
  {
   "cell_type": "markdown",
   "metadata": {},
   "source": [
    "ICON project for DAT-129\n",
    "\n",
    "Purpose: Create a program in python that uses looping and basic data structures to display customized 10x10 student icons in various scales and orientations."
   ]
  },
  {
   "cell_type": "code",
   "execution_count": null,
   "metadata": {},
   "outputs": [],
   "source": [
    "import numpy as np\n"
   ]
  },
  {
   "cell_type": "code",
   "execution_count": null,
   "metadata": {},
   "outputs": [],
   "source": [
    "def print_icon(file_type):\n",
    "    '''\n",
    "    print the icon    \n",
    "    '''\n",
    "    \n",
    "    for row in "
   ]
  },
  {
   "cell_type": "code",
   "execution_count": null,
   "metadata": {},
   "outputs": [],
   "source": [
    "# prompt the user for dataset path name and read file in order to determine it is a valid path name\n",
    "def path_names(file_type):\n",
    "    '''\n",
    "    prompt the user for chosen dataset path name and read file in order to determine it is a valid path name\n",
    "    input parameter is 'data' to prompt for name of data file  \n",
    "    returns the name of the validiated file name    \n",
    "    '''\n",
    "    not_validiated = True\n",
    "    while not_validiated:\n",
    "        path_name_s = (input('Enter a path for the input test file: \\n'))\n",
    "          \n",
    "        if len(path_name_s) > 0:\n",
    "            try:\n",
    "                file = open(path_name_s, 'r')\n",
    "                line = file.read()\n",
    "                open_file = True\n",
    "                file.close()\n",
    "            except:\n",
    "                print(\"I/O Error on read of file, please try again\")\n",
    "                open_file = False\n",
    "            finally:\n",
    "                #print('open_file', open_file)\n",
    "                if open_file:\n",
    "                    not_validiated = False \n",
    "    return path_name_s"
   ]
  },
  {
   "cell_type": "code",
   "execution_count": null,
   "metadata": {},
   "outputs": [],
   "source": [
    "# prompt the user for dataset path name and read file in order to determine it is a valid path name\n",
    "def path_names(file_type):\n",
    "    '''\n",
    "    prompt the user for chosen dataset path name and read file in order to determine it is a valid path name\n",
    "    input parameter is 'data' to prompt for name of data file  \n",
    "    returns the name of the validiated file name    \n",
    "    '''\n",
    "    \n",
    "    \n",
    "    "
   ]
  },
  {
   "cell_type": "code",
   "execution_count": null,
   "metadata": {},
   "outputs": [],
   "source": [
    "#main code\n",
    "\n",
    "#Prompt user for input\n",
    "\n",
    "\n",
    "my_array = np.array([0,1,0,1], [1,1,0,1])\n",
    "my_size = my_array.size\n",
    "\n",
    "#file path name - C:\\Users\\Robert Buell\\DAT-129_robert\\Data\\CPI.csv\n",
    "input_file_path = path_names('data')\n",
    "print('Test input file path name ', input_file_path)"
   ]
  },
  {
   "cell_type": "code",
   "execution_count": 7,
   "metadata": {},
   "outputs": [
    {
     "name": "stdout",
     "output_type": "stream",
     "text": [
      "8\n",
      "4\n"
     ]
    }
   ],
   "source": [
    "import numpy as np\n",
    "my_array = np.array([[0,1,0,1], [1,1,0,1]])\n",
    "my_size = my_array.size\n",
    "my_len = len(my_array[1])\n",
    "print(my_size)\n",
    "print(my_len)"
   ]
  },
  {
   "cell_type": "code",
   "execution_count": null,
   "metadata": {},
   "outputs": [],
   "source": []
  }
 ],
 "metadata": {
  "kernelspec": {
   "display_name": "Python 3",
   "language": "python",
   "name": "python3"
  },
  "language_info": {
   "codemirror_mode": {
    "name": "ipython",
    "version": 3
   },
   "file_extension": ".py",
   "mimetype": "text/x-python",
   "name": "python",
   "nbconvert_exporter": "python",
   "pygments_lexer": "ipython3",
   "version": "3.8.5"
  }
 },
 "nbformat": 4,
 "nbformat_minor": 4
}
