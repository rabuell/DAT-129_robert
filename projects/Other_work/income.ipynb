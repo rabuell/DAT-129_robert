{
 "cells": [
  {
   "cell_type": "code",
   "execution_count": 1,
   "metadata": {},
   "outputs": [
    {
     "name": "stdout",
     "output_type": "stream",
     "text": [
      "filetype: <class '_io.TextIOWrapper'>\n",
      "native object type from python: <class 'dict'>\n",
      "{'my_chose_dataset': 'nuclear_reactors.csv'}\n",
      "nuclear_reactors.csv\n"
     ]
    }
   ],
   "source": [
    "# grap the standard library json module\n",
    "import json\n",
    "\n",
    "with open('myfile.json', 'r') as jsonfile:\n",
    "    print('filetype:', type(jsonfile))\n",
    "    pyobject_from_json = json.load(jsonfile)\n",
    "    print('native object type from python:', type(pyobject_from_json))\n",
    "    print(pyobject_from_json)\n",
    "    print(pyobject_from_json['my_chose_dataset'])"
   ]
  },
  {
   "cell_type": "code",
   "execution_count": null,
   "metadata": {},
   "outputs": [],
   "source": []
  }
 ],
 "metadata": {
  "kernelspec": {
   "display_name": "Python 3",
   "language": "python",
   "name": "python3"
  },
  "language_info": {
   "codemirror_mode": {
    "name": "ipython",
    "version": 3
   },
   "file_extension": ".py",
   "mimetype": "text/x-python",
   "name": "python",
   "nbconvert_exporter": "python",
   "pygments_lexer": "ipython3",
   "version": "3.8.5"
  }
 },
 "nbformat": 4,
 "nbformat_minor": 4
}
