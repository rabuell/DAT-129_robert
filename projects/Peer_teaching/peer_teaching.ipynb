{
 "cells": [
  {
   "cell_type": "markdown",
   "metadata": {},
   "source": [
    "## Peer teaching - Python functions as objects\n",
    "\n",
    "Website used as source - https://medium.com/python-pandemonium/function-as-objects-in-python-d5215e6d1b0d"
   ]
  },
  {
   "cell_type": "markdown",
   "metadata": {},
   "source": [
    "Everything in Python is an object.  Objects store data but also has operations that can act on the data.\n",
    "\n",
    "Functions:\n",
    "    have types\\\n",
    "    can be used as argument in another function\\\n",
    "    can be used in an expression\\\n",
    "    be part of other Python data structures"
   ]
  },
  {
   "cell_type": "code",
   "execution_count": null,
   "metadata": {},
   "outputs": [],
   "source": [
    "import numpy as np\n",
    "\n",
    "#functions from my ICON project\n",
    "def rotate_array(working_array, rotate_value):\n",
    "    '''\n",
    "    rotates the ICON 90, 180 or 270 degrees\n",
    "    returns rotated ICON\n",
    "    \n",
    "    '''\n",
    "    #print(working_array)\n",
    "    if rotate_value == 1:\n",
    "        rotate_array = np.rot90(working_array)\n",
    "    elif rotate_value == 2:\n",
    "        rotate_array = np.rot90(working_array,2) \n",
    "    else:\n",
    "        rotate_array = np.rot90(working_array,3)\n",
    "    #print(rotate_array)    \n",
    "    return rotate_array\n",
    "\n",
    "def print_icon(on_print_char, off_print_char,print_array):\n",
    "    '''\n",
    "    prints the icon to the screen   \n",
    "    '''\n",
    "    \n",
    "    array_shape = np.shape(print_array)\n",
    "    #print('array_shape',array_shape)\n",
    "    shape_row = array_shape[0]\n",
    "    shape_col = array_shape[1]\n",
    "    # build string array using off_print_char as the initial value\n",
    "    output_array = np.full((shape_row,shape_col),off_print_char,dtype=str)\n",
    "    #print(output_array)\n",
    "    #print blank line\n",
    "    print('')\n",
    "    \n",
    "    for row in range(shape_row):\n",
    "        print_line=''\n",
    "        for col in range(shape_col):\n",
    "            #print('r/c', row, col)\n",
    "            if print_array[row,col] == 1:\n",
    "                output_array[row,col] = on_print_char \n",
    "            print_line=print_line+(str(output_array[row,col]))\n",
    "        print(print_line)\n",
    "\n",
    "#Functions have types\n",
    "print('type of function', type(rotate_array))"
   ]
  },
  {
   "cell_type": "code",
   "execution_count": null,
   "metadata": {},
   "outputs": [],
   "source": [
    "#build empty 3X4 array\n",
    "test_array = np.full((3, 4),0,dtype=int)\n",
    "print(test_array)\n",
    "test_array = np.array([(1,0,1,0) , (0,1,0,1), (1,1,1,1)])\n",
    "print(np.shape(test_array)) \n",
    "print(test_array)"
   ]
  },
  {
   "cell_type": "code",
   "execution_count": null,
   "metadata": {},
   "outputs": [],
   "source": [
    "#functions can be used as argument in another function\n",
    "\n",
    "on_value = '#'\n",
    "off_value = ' '\n",
    "\n",
    "print_icon(on_value, off_value,test_array)\n",
    "print('\\n')\n",
    "\n",
    "#print after rotating 90\n",
    "print_icon(on_value, off_value, rotate_array(test_array,1))\n",
    " "
   ]
  },
  {
   "cell_type": "code",
   "execution_count": null,
   "metadata": {},
   "outputs": [],
   "source": [
    "#functions can be used in an expression\n",
    "print(test_array)\n",
    "print('\\n')\n",
    "new_array = rotate_array(test_array,1)\n",
    "print(new_array)  "
   ]
  },
  {
   "cell_type": "code",
   "execution_count": null,
   "metadata": {},
   "outputs": [],
   "source": [
    "#functions can be part of other Python data structures\n",
    "\n",
    "a = -3.14\n",
    "\n",
    "my_list3 = [(abs(a), int(a), np.square(a))]\n",
    "             \n",
    "print(my_list3)"
   ]
  },
  {
   "cell_type": "code",
   "execution_count": null,
   "metadata": {},
   "outputs": [],
   "source": []
  }
 ],
 "metadata": {
  "kernelspec": {
   "display_name": "Python 3",
   "language": "python",
   "name": "python3"
  },
  "language_info": {
   "codemirror_mode": {
    "name": "ipython",
    "version": 3
   },
   "file_extension": ".py",
   "mimetype": "text/x-python",
   "name": "python",
   "nbconvert_exporter": "python",
   "pygments_lexer": "ipython3",
   "version": "3.8.5"
  }
 },
 "nbformat": 4,
 "nbformat_minor": 4
}
