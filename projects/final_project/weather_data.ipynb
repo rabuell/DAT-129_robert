{
 "cells": [
  {
   "cell_type": "code",
   "execution_count": 1,
   "metadata": {},
   "outputs": [],
   "source": [
    "import numpy as np\n",
    "import pandas as pd\n",
    "from datetime import datetime\n",
    "import matplotlib.pyplot as plt\n",
    "from meteostat import Point, Daily"
   ]
  },
  {
   "cell_type": "code",
   "execution_count": 2,
   "metadata": {},
   "outputs": [
    {
     "name": "stdout",
     "output_type": "stream",
     "text": [
      "            tavg  tmin  tmax  prcp  snow   wdir  wspd  wpgt    pres  tsun\n",
      "time                                                                     \n",
      "1945-02-01 -10.4   NaN   NaN   NaN   NaN    NaN   NaN   NaN     NaN   NaN\n",
      "1945-02-02   NaN   NaN   NaN   NaN   NaN    NaN   NaN   NaN     NaN   NaN\n",
      "1945-02-03   NaN   NaN   NaN   NaN   NaN    NaN   NaN   NaN     NaN   NaN\n",
      "1945-02-04   NaN   NaN   NaN   NaN   NaN    NaN   NaN   NaN     NaN   NaN\n",
      "1945-02-05   NaN   NaN   NaN   NaN   NaN    NaN   NaN   NaN     NaN   NaN\n",
      "...          ...   ...   ...   ...   ...    ...   ...   ...     ...   ...\n",
      "2021-12-13   5.1   1.8   9.3   0.0   NaN  208.4   9.1   NaN  1028.6   NaN\n",
      "2021-12-14   6.4   3.0  10.6   0.0   NaN  143.4   6.3   NaN  1032.2   NaN\n",
      "2021-12-15   9.0   5.8  12.8   0.0   NaN  156.9   7.6   NaN  1028.1   NaN\n",
      "2021-12-16  11.4   9.5  13.7   0.0   NaN  190.3  10.1   NaN  1021.6   NaN\n",
      "2021-12-17  10.3   7.9  11.3   0.0   NaN  223.0  13.0   NaN  1018.5   NaN\n",
      "\n",
      "[28079 rows x 10 columns]\n"
     ]
    }
   ],
   "source": [
    "#get weather data from https://meteostat.net - creates a pandas dataframe\n",
    "\n",
    "# Create Point for Pittsburgh, PA\n",
    "pittsburgh = Point(40.48333, -80.0667, 367)\n",
    "\n",
    "#get data for all time periods\n",
    "data = Daily(pittsburgh)\n",
    "pgh_data = data.fetch()\n",
    "\n",
    "#get data with sunshine minutes, date range 1/1/1965:3/19/2001 (inclusive)\n",
    "start = datetime(1965,1,1)\n",
    "end = datetime(2001,3,19)\n",
    "data = Daily(pittsburgh, start, end)\n",
    "pgh_sunshine_data = data.fetch()\n",
    "\n",
    "print(pgh_data)"
   ]
  },
  {
   "cell_type": "code",
   "execution_count": 3,
   "metadata": {},
   "outputs": [
    {
     "name": "stdout",
     "output_type": "stream",
     "text": [
      "            tavg  tmin  tmax  prcp  snow   wdir  wspd  wpgt    pres   tsun\n",
      "time                                                                      \n",
      "1965-01-01   NaN  -3.3   2.2   8.4   0.0    NaN   NaN  31.3     NaN    6.0\n",
      "1965-01-02   NaN   0.6  12.8  13.2   0.0    NaN   NaN  70.2     NaN    0.0\n",
      "1965-01-03   NaN  -4.4   1.7   0.5  25.0    NaN   NaN  59.0     NaN  552.0\n",
      "1965-01-04   NaN  -5.0  -1.7   0.0   0.0    NaN   NaN  27.7     NaN   12.0\n",
      "1965-01-05   NaN  -5.6   6.7   0.0   0.0    NaN   NaN  40.7     NaN  294.0\n",
      "...          ...   ...   ...   ...   ...    ...   ...   ...     ...    ...\n",
      "2001-03-15   5.0  -0.6  10.0   0.0   0.0    NaN   6.8   NaN  1012.0    NaN\n",
      "2001-03-16   6.1   2.8   8.9   7.1   0.0    NaN  12.6   NaN  1008.3    NaN\n",
      "2001-03-17   2.8  -2.2   7.2   0.3   0.0  266.9  19.4   NaN  1016.0    0.0\n",
      "2001-03-18   2.2  -3.3   7.2   0.0   0.0  329.3  18.4   NaN  1028.5  566.0\n",
      "2001-03-19   2.2  -6.1  10.0   0.0   0.0    NaN   7.2   NaN  1031.1  671.0\n",
      "\n",
      "[13227 rows x 10 columns]\n"
     ]
    }
   ],
   "source": [
    "print(pgh_sunshine_data)"
   ]
  },
  {
   "cell_type": "code",
   "execution_count": 4,
   "metadata": {},
   "outputs": [
    {
     "name": "stdout",
     "output_type": "stream",
     "text": [
      "            tavg  tmin  tmax  prcp  snow   wdir  wspd  wpgt    pres  tsun\n",
      "time                                                                     \n",
      "1943-10-02  15.2  11.6  24.4   NaN   NaN  169.4  11.0   NaN  1015.2   NaN\n",
      "1943-10-03  15.5  11.6  20.5   NaN   NaN  145.1   8.6   NaN  1017.6   NaN\n",
      "1943-10-04  14.2   9.9  20.5   NaN   NaN  169.8   9.7   NaN  1015.5   NaN\n",
      "1943-10-05  15.8  13.8  18.8   NaN   NaN  208.2  10.0   NaN  1022.9   NaN\n",
      "1943-10-06   NaN   NaN   NaN   NaN   NaN    NaN   NaN   NaN     NaN   NaN\n",
      "...          ...   ...   ...   ...   ...    ...   ...   ...     ...   ...\n",
      "2021-12-13   4.9   3.6   6.4   0.0   NaN  139.8  13.4   NaN  1003.3   NaN\n",
      "2021-12-14   4.5   3.6   5.8   0.0   NaN  168.0  13.4   NaN  1009.5   NaN\n",
      "2021-12-15   4.5   3.4   6.4   0.0   NaN  148.2  13.3   NaN  1011.3   NaN\n",
      "2021-12-16   4.3   3.2   6.0   0.0   NaN  138.4  12.9   NaN  1013.7   NaN\n",
      "2021-12-17   4.3   2.4   6.0   0.0   NaN  138.6  12.3   NaN  1016.2   NaN\n",
      "\n",
      "[28567 rows x 10 columns]\n"
     ]
    }
   ],
   "source": [
    "#get weather data from https://meteostat.net - creates a pandas dataframe\n",
    "\n",
    "# Create Point for Seattle, WA\n",
    "seattle = Point(47.45, -122.3167, 131)\n",
    "\n",
    "data = Daily(seattle)\n",
    "sea_data = data.fetch()\n",
    "\n",
    "#get data with sunshine minutes, date range 2/10/1965:9/30/1996 (inclusive)\n",
    "start = datetime(1965,2,10)\n",
    "end = datetime(1996,9,30)\n",
    "\n",
    "data = Daily(seattle, start, end)\n",
    "sea_sunshine_data = data.fetch()\n",
    "\n",
    "print(sea_data)"
   ]
  },
  {
   "cell_type": "code",
   "execution_count": 5,
   "metadata": {},
   "outputs": [
    {
     "name": "stdout",
     "output_type": "stream",
     "text": [
      "            tavg  tmin  tmax  prcp  snow   wdir  wspd  wpgt    pres   tsun\n",
      "time                                                                      \n",
      "1965-02-10   3.4   1.1   6.7   0.5   0.0    NaN   7.7   NaN  1027.7  162.0\n",
      "1965-02-11   3.0   0.6   6.7   0.5   0.0    NaN   9.4   NaN  1028.6    0.0\n",
      "1965-02-12   5.6   3.9   8.9   7.1   0.0  131.3   6.7   NaN  1028.1    0.0\n",
      "1965-02-13   7.1   2.8   8.3   4.6   0.0  190.6  20.2   NaN  1021.5    0.0\n",
      "1965-02-14   4.2   2.8   7.8   0.0   0.0    NaN  11.4   NaN  1020.7    0.0\n",
      "...          ...   ...   ...   ...   ...    ...   ...   ...     ...    ...\n",
      "1996-09-26  14.9   8.3  22.8   0.0   0.0    NaN   9.4  20.9  1021.3  679.0\n",
      "1996-09-27  16.5   9.4  23.9   0.0   0.0    NaN   9.4  19.4  1020.3  665.0\n",
      "1996-09-28  14.9  11.1  20.6   0.0   0.0    NaN  10.1  19.4  1019.9  667.0\n",
      "1996-09-29  12.6  10.0  17.8   0.0   0.0    NaN   6.1  16.2  1016.5  222.0\n",
      "1996-09-30   NaN   9.4  18.9   0.0   0.0    NaN   9.7  22.7     NaN   74.0\n",
      "\n",
      "[11556 rows x 10 columns]\n"
     ]
    }
   ],
   "source": [
    "print(sea_sunshine_data)"
   ]
  },
  {
   "cell_type": "code",
   "execution_count": 6,
   "metadata": {},
   "outputs": [
    {
     "name": "stdout",
     "output_type": "stream",
     "text": [
      "[ 1289  7293 12815  1344 11633  7291  9372 10201  4829  1520 10141 10234\n",
      "  9224  9289  6400 12328 10742  5648  4452   239  2443  2102  3416 11627\n",
      "  7290   574  8036  9166 11318 12365 12301  6899   409  1406   653  3932\n",
      "  1366 12062  8281  2700  7489  1828   283 11794  8285 12365 10646  7063\n",
      "  2654 11000  4491  7561  6159  3602 11728   630  5191  3416  1681  9646]\n"
     ]
    }
   ],
   "source": [
    "#use seed so I can re-run the selection process\n",
    "np.random.seed(10)\n",
    "pgh_random = np.random.randint(low=0, high=(len(pgh_sunshine_data) + 1), size=(60,))\n",
    "print(pgh_random)"
   ]
  },
  {
   "cell_type": "code",
   "execution_count": 7,
   "metadata": {},
   "outputs": [
    {
     "name": "stdout",
     "output_type": "stream",
     "text": [
      "            tavg  tmin  tmax  prcp   snow   wdir  wspd  wpgt    pres   tsun\n",
      "time                                                                       \n",
      "1968-07-13   NaN  17.8  31.1   0.0    0.0    NaN   NaN  22.3     NaN  528.0\n",
      "1984-12-20   2.2  -0.6   6.7   0.0    0.0  262.6  13.7  31.3  1019.6  334.0\n",
      "2000-02-02  -6.1 -10.0  -2.8   0.0  152.0    NaN  14.8   NaN  1024.8  422.0\n",
      "1968-09-06   NaN  13.3  23.9   9.1    0.0    NaN   NaN  37.1     NaN  606.0\n",
      "1996-11-07  17.2  13.9  21.1   6.1    0.0  156.6  15.8   NaN  1012.5   12.0\n",
      "1984-12-18   7.1  -1.1  13.9   0.0    0.0  306.8  16.2  38.9  1022.7   33.0\n",
      "1990-08-30  19.9  12.8  26.7   0.0    0.0    NaN   9.7  25.9  1015.9  729.0\n",
      "1992-12-06  -5.1  -7.8  -2.8   0.0    0.0  227.9  14.8  29.5  1023.8  118.0\n",
      "1978-03-23  10.5   6.7  12.8   2.3    0.0  281.6  14.9  35.3  1017.4   84.0\n",
      "1969-03-01   NaN  -1.7   2.2   0.3    0.0    NaN   NaN  33.5     NaN  294.0\n",
      "1992-10-07  11.1   2.8  21.7   0.0    0.0    NaN   6.8  18.4  1024.7  688.0\n",
      "1993-01-08   1.8   0.6   2.8   0.0    0.0   13.0  16.6  33.5  1019.0    0.0\n",
      "1990-04-04   3.9  -0.6  10.6   4.3   25.0  272.5  28.4  61.2  1002.0   67.0\n",
      "1990-06-08  20.7  15.6  27.8  17.3    0.0    NaN  12.6  50.0  1015.3  156.0\n",
      "1982-07-11  23.7  20.0  27.2   0.0    0.0  179.9  18.6  38.9  1010.8  624.0\n",
      "1998-10-03   9.4   8.9  10.0  17.5    0.0    NaN  11.5   NaN  1022.2    0.0\n",
      "1994-05-31  23.3  15.0  30.6   0.5    0.0    NaN  18.4  38.9  1016.8  731.0\n",
      "1980-06-19  20.7  13.3  26.7   1.5    0.0    NaN  12.4  55.4  1011.9  528.0\n",
      "1977-03-11  12.1  -0.6  21.7   0.0    0.0    NaN   7.4  29.5  1024.3  630.0\n",
      "1965-08-28   NaN   6.7  23.3   0.0    0.0    NaN   NaN  59.0     NaN  258.0\n",
      "1971-09-10  23.8  16.1  32.2   0.0    0.0    NaN   8.8  24.1  1013.7  414.0\n",
      "1970-10-04   8.4   1.1  15.0   0.0    0.0  265.5  16.1  50.0  1018.8  630.0\n",
      "1974-05-10  11.7   8.3  17.2   0.0    0.0  351.2  12.8  31.3  1015.7  414.0\n",
      "1996-11-01   3.9   0.0   6.1   0.0    0.0  238.3  14.4   NaN  1013.4  276.0\n",
      "1984-12-17  13.8  10.0  17.8   0.0    0.0    NaN  15.1  38.9  1019.4  394.0\n",
      "1966-07-29   NaN  17.8  27.2   4.1    0.0    NaN   NaN  38.9     NaN  660.0\n",
      "1987-01-02  -0.1  -1.1   0.6  14.0  127.0    NaN  16.6  37.1  1008.9    0.0\n",
      "1990-02-05  -2.1  -4.4   1.1   0.0    0.0  229.1  17.3  35.3  1025.1  165.0\n",
      "1995-12-28  -4.8  -7.2  -2.8   0.0  152.0  264.9  18.7  27.7  1026.1   55.0\n",
      "1998-11-09   7.2   3.9  10.6   0.0    0.0    NaN   5.0   NaN  1024.7   78.0\n",
      "1998-09-06  23.3  14.4  32.2   0.0    0.0    NaN   9.4   NaN  1016.5  660.0\n",
      "1983-11-22  11.1   6.1  16.7   0.0    0.0    NaN  13.5  35.3  1016.7  444.0\n",
      "1966-02-14   NaN  -1.7   3.9   2.3    0.0    NaN   NaN  35.3     NaN   48.0\n",
      "1968-11-07   NaN   5.0   9.4   3.0    0.0    NaN   NaN  29.5     NaN    0.0\n",
      "1966-10-16   NaN   6.7  13.3   0.0    0.0    NaN   NaN  48.2     NaN    0.0\n",
      "1975-10-08  11.9   4.4  18.3  17.5    0.0    NaN   8.0  22.3  1021.8  246.0\n",
      "1968-09-28   NaN   7.8  21.1   0.0    0.0    NaN   NaN  31.3     NaN  606.0\n",
      "1998-01-10   3.0   0.0   6.1   0.0    0.0  221.7  16.9   NaN  1019.8   56.0\n",
      "1987-09-04  19.0  11.1  27.2   0.0    0.0    NaN   7.6  16.6  1024.5  755.0\n",
      "1972-05-24  21.8  12.8  28.9   0.0    0.0    NaN  11.3  29.5  1011.8  834.0\n",
      "1985-07-04  20.0  13.9  26.1   0.0    0.0    NaN   9.4  27.7  1013.5  199.0\n",
      "1970-01-03  -5.1  -8.9  -1.7   0.5  127.0  267.2  18.5  46.4  1015.5   72.0\n",
      "1965-10-11   NaN   4.4  11.1   4.1    0.0    NaN   NaN  37.1     NaN   96.0\n",
      "1997-04-17   4.0   1.1   7.2   0.5    0.0    NaN  20.9   NaN  1012.4    6.0\n",
      "1987-09-08  20.6  18.9  22.8   9.7    0.0    NaN   6.1  18.4  1011.8   31.0\n",
      "1998-11-09   7.2   3.9  10.6   0.0    0.0    NaN   5.0   NaN  1024.7   78.0\n",
      "1994-02-24  -1.6  -6.1   5.0  12.7   25.0  272.1  27.4  57.2  1007.6   20.0\n",
      "1984-05-04   9.6   7.2  13.3   0.8    0.0  264.9  21.6  53.6   997.2    0.0\n",
      "1972-04-08  -4.2  -7.2  -0.6   0.3   25.0  343.8  23.4  51.8  1021.8  432.0\n",
      "1995-02-13 -10.7 -16.7  -3.9   0.0   25.0  229.2  16.2  33.5  1027.4  509.0\n",
      "1977-04-19  18.1  10.0  27.2   0.0    0.0    NaN   9.6  50.0  1020.1   66.0\n",
      "1985-09-14  11.7   2.8  17.8   0.0    0.0    NaN   8.3  27.7  1034.8  675.0\n",
      "1981-11-12   1.5  -1.7   6.7   0.0    0.0   14.6  13.0  27.7  1028.7  540.0\n",
      "1974-11-12   8.4   4.4  12.2   9.7    0.0  262.7  15.3  42.5  1006.1   60.0\n",
      "1997-02-10  -3.1  -5.0  -1.1   0.0   51.0    NaN   8.6   NaN  1025.5   36.0\n",
      "1966-09-23   NaN   9.4  18.9   0.0    0.0    NaN   NaN  44.3     NaN  558.0\n",
      "1979-03-20   9.7   0.6  18.3   0.0    0.0   27.4  11.6  24.1  1020.1  510.0\n",
      "1974-05-10  11.7   8.3  17.2   0.0    0.0  351.2  12.8  31.3  1015.7  414.0\n",
      "1969-08-09   NaN  15.6  20.6  27.2    0.0    NaN   NaN  37.1     NaN   72.0\n",
      "1991-05-31  25.0  19.4  30.6   2.5    0.0  264.3  14.0  33.5  1010.0  543.0\n"
     ]
    }
   ],
   "source": [
    "#select random sample for pittsburgh\n",
    "random_pgh = pgh_sunshine_data.iloc[pgh_random]\n",
    "print(random_pgh)"
   ]
  },
  {
   "cell_type": "code",
   "execution_count": 8,
   "metadata": {},
   "outputs": [
    {
     "name": "stdout",
     "output_type": "stream",
     "text": [
      "[ 7270   860  5390  5191 11284  5734  6265   466  4426  5578 11363 11111\n",
      "  8322  1685   769 10583  6949  2433  5311  5051  6420  1184  4555  3385\n",
      "  6396 11096  8666  9274  2558  7849  2047  2747  9167  9998   189  2734\n",
      "  3005  4658  1899  7734  1267  1528 11394  3556  3890  8838 11080  5393\n",
      " 10627  8792 10555 10253  8433 10233 11016  7513  2612  7041  9555  6235]\n"
     ]
    }
   ],
   "source": [
    "#use seed so I can re-run the selection process\n",
    "np.random.seed(42)\n",
    "sea_random = np.random.randint(low=0, high=(len(sea_sunshine_data) + 1), size=(60,))\n",
    "print(sea_random)"
   ]
  },
  {
   "cell_type": "code",
   "execution_count": 9,
   "metadata": {},
   "outputs": [
    {
     "name": "stdout",
     "output_type": "stream",
     "text": [
      "            tavg  tmin  tmax  prcp  snow   wdir  wspd  wpgt    pres   tsun\n",
      "time                                                                      \n",
      "1985-01-06   3.0   0.6   6.7   0.0   0.0    7.2  12.2  25.9  1019.3    4.0\n",
      "1967-06-20  18.1  12.8  16.1   8.6   0.0  234.1  11.5   NaN  1014.7  540.0\n",
      "1979-11-14   4.7   0.0  12.2   0.0   0.0    NaN   8.5  42.5  1016.7  144.0\n",
      "1979-04-29   NaN  11.1  19.4   0.0   0.0    NaN   NaN  22.3     NaN  744.0\n",
      "1996-01-03   7.8   5.6   9.4   0.5   0.0  200.8  28.4  53.6  1007.1  358.0\n",
      "1980-10-23  13.7   8.3  20.0   0.0   0.0   77.2  19.3  38.9  1018.3  234.0\n",
      "1982-04-07   7.3   3.9  11.7   0.0   0.0    NaN  10.5  35.3  1019.4  270.0\n",
      "1966-05-22   9.0   5.0  16.1   0.0   0.0  184.2   9.5   NaN  1017.8  738.0\n",
      "1977-03-25   7.0   5.0  10.6   0.0   0.0  209.8  16.0  35.3  1017.7    NaN\n",
      "1980-05-20  11.0   8.9  12.8   0.5   0.0    NaN  11.7  25.9  1014.1    0.0\n",
      "1996-03-22   6.1   3.9   7.2   5.1   0.0    NaN  11.5  33.5  1010.2  157.0\n",
      "1995-07-14  18.5  13.9  25.0   0.0   0.0  233.9  11.2  22.3  1022.7  501.0\n",
      "1987-11-24   8.7   3.9  12.2   4.8   0.0  191.2  24.1  55.4  1014.8  117.0\n",
      "1969-09-22  15.4  13.3  17.8  32.3   0.0  186.3  15.0   NaN  1013.3    0.0\n",
      "1967-03-21   7.4   5.6  12.2   4.8   0.0  206.5  16.2   NaN  1020.7  306.0\n",
      "1994-02-01   3.3  -2.8  10.6   0.0   0.0    9.7   8.6  18.4  1028.2  525.0\n",
      "1984-02-20   8.9   6.1  12.2  18.8   0.0  162.0  15.1  27.7  1014.2    0.0\n",
      "1971-10-10   NaN  12.2  17.8   0.0   0.0    NaN   NaN   NaN     NaN  114.0\n",
      "1979-08-27  16.2  12.8  18.9   0.0   0.0  192.0  10.9  24.1  1014.7  186.0\n",
      "1978-12-10   6.2   3.3  11.7   5.1   0.0    NaN  14.6  59.0  1019.1    0.0\n",
      "1982-09-09  15.2  11.7  17.2  15.5   0.0    NaN  14.6  37.1  1012.5  180.0\n",
      "1968-05-09  16.5  11.7  23.3   0.0   0.0    8.6  20.0   NaN  1015.1  480.0\n",
      "1977-08-01  23.1  15.0  30.6   0.0   0.0  352.8  14.7  29.5  1019.7  864.0\n",
      "1974-05-19  12.9  10.0  17.8   0.0   0.0  212.2  14.3  27.7  1019.5  696.0\n",
      "1982-08-16  17.1  12.2  23.9   0.0   0.0    NaN  10.5  24.1  1019.9  696.0\n",
      "1995-06-29  26.7  18.9  32.8   0.0   0.0   23.5  18.0  37.1  1016.3  834.0\n",
      "1988-11-02  10.8   8.9  13.3  22.6   0.0  184.9  20.5  50.0   998.6    0.0\n",
      "1990-07-03  16.3  10.0  22.8   0.0   0.0  337.5  14.8  27.7  1015.7  827.0\n",
      "1972-02-12   NaN   3.9  11.1  15.5   0.0    NaN   NaN   NaN     NaN    0.0\n",
      "1986-08-08  24.8  15.6  32.8   0.0   0.0    NaN  11.2  25.9  1013.1  831.0\n",
      "1970-09-19   NaN  11.7  17.8   0.8   0.0    NaN   NaN   NaN     NaN  318.0\n",
      "1972-08-19   NaN  14.4  24.4   0.0   0.0    NaN   NaN   NaN     NaN  690.0\n",
      "1990-03-18  10.5   7.2  15.0   0.0   0.0    NaN  10.8  25.9  1021.9  473.0\n",
      "1992-06-26  18.3  14.4  23.3   0.0   0.0  206.6  12.6  25.9  1012.8  322.0\n",
      "1965-08-18  22.7  16.1  30.0   0.0   0.0    NaN   6.4   NaN  1010.5  690.0\n",
      "1972-08-06   NaN  15.6  32.8   0.0   0.0    NaN   NaN   NaN     NaN  882.0\n",
      "1973-05-04  12.2   8.3  16.7   0.5   0.0    NaN   7.5  22.3  1015.5  528.0\n",
      "1977-11-12   8.9   6.1  11.7   2.5   0.0  151.0  15.0  48.2  1016.5   42.0\n",
      "1970-04-24   NaN   3.3   8.3   5.1   0.0    NaN   NaN   NaN     NaN  462.0\n",
      "1986-04-15   9.4   5.6  12.8  15.2   0.0    NaN  11.9  50.0  1008.6  236.0\n",
      "1968-07-31  24.0  15.0  32.8   0.0   0.0    NaN  13.3   NaN  1015.4  816.0\n",
      "1969-04-18   8.1   5.0  11.7   3.0   0.0  205.5  24.7   NaN  1012.7  390.0\n",
      "1996-04-22   9.9   7.8  12.2  32.5   0.0  140.1  13.7  27.7  1013.3   86.0\n",
      "1974-11-06   8.8   7.8  10.0  13.7   0.0  137.7  14.3  29.5  1010.7    0.0\n",
      "1975-10-06  10.5   6.7  15.6   0.0   0.0    NaN   9.1  27.7  1011.4  522.0\n",
      "1989-04-23  10.8   5.0  16.7   0.0   0.0    NaN  16.6  35.3  1011.9  748.0\n",
      "1995-06-13  13.5  11.1  17.2   0.5   0.0  199.9  13.7  25.9  1015.9  731.0\n",
      "1979-11-17   8.3   5.0  10.6   0.5   0.0  177.9  18.9  46.4  1008.7   48.0\n",
      "1994-03-17   7.4   5.0  10.0   2.3   0.0  189.0  20.2  46.4  1009.2   28.0\n",
      "1989-03-08   8.3   2.8  14.4   0.3   0.0    NaN  10.8  31.3  1011.1  469.0\n",
      "1994-01-04   9.2   5.6  11.7   3.6   0.0  187.6  21.6  59.0  1006.5   71.0\n",
      "1993-03-08   8.9   5.0  11.7   1.3   0.0    NaN  10.4  24.1  1022.1  205.0\n",
      "1988-03-14   7.0   2.2  11.7   0.0   0.0    NaN  16.6  46.4  1023.0  605.0\n",
      "1993-02-16  -0.2  -2.2   3.9   0.0   0.0   84.6  16.6  40.7  1025.0  561.0\n",
      "1995-04-10   7.5   5.0  10.6   5.8   0.0  175.1  11.2  24.1  1020.2  123.0\n",
      "1985-09-06  12.2  10.6  14.4   4.3   0.0  183.7  22.7  50.0  1005.7  143.0\n",
      "1972-04-06   NaN   4.4  12.2   7.4   0.0    NaN   NaN   NaN     NaN  204.0\n",
      "1984-05-22  10.0   7.8  12.2  17.0   0.0  161.9  12.2  25.9  1016.1    4.0\n",
      "1991-04-10   5.5   1.1  11.1   6.6   0.0    NaN  12.2  35.3  1026.3  249.0\n",
      "1982-03-08   7.5   1.7  13.3   4.6   0.0    NaN  10.4  29.5  1013.2  354.0\n"
     ]
    }
   ],
   "source": [
    "#select random sample for seattle\n",
    "random_sea = sea_sunshine_data.iloc[sea_random]\n",
    "\n",
    "print(random_sea)"
   ]
  },
  {
   "cell_type": "code",
   "execution_count": 10,
   "metadata": {},
   "outputs": [],
   "source": [
    "# mean/stanard deviation for sunshine data for pittsburgh\n",
    "pgh_sunshine_sample_mean = pgh_sunshine_data['tsun'].mean()\n",
    "pgh_sunshine_sample_std = pgh_sunshine_data['tsun'].std()\n",
    "\n",
    "# mean/stanard deviation for random sample sunshine data for pittsburgh\n",
    "pgh_sunshine_random_mean = random_pgh['tsun'].mean()\n",
    "pgh_sunshine_random_std = random_pgh['tsun'].std()\n",
    "\n",
    "#second variable prcp\n",
    "# mean/stanard deviation for prcp data for pittsburgh\n",
    "pgh_rain_sample_mean = pgh_sunshine_data['prcp'].mean()\n",
    "pgh_rain_sample_std = pgh_sunshine_data['prcp'].std()\n",
    "\n",
    "# mean/stanard deviation for random sample sunshine data for pittsburgh\n",
    "pgh_rain_random_mean = random_pgh['prcp'].mean()\n",
    "pgh_rain_random_std = random_pgh['prcp'].std()"
   ]
  },
  {
   "cell_type": "code",
   "execution_count": 11,
   "metadata": {},
   "outputs": [
    {
     "name": "stdout",
     "output_type": "stream",
     "text": [
      "pittsburgh stats\n",
      "mean of all sunshine minutes 316.65306432038835\n",
      "stardard deviation of all sunshine minutes 262.57675248511634\n",
      "mean of sample of sunshine minutes 308.23333333333335\n",
      "stardard deviation of sample of sunshine minutes 264.40020812491275\n",
      "second variable\n",
      "mean of all rain amounts 2.5818477356920875\n",
      "stardard deviation of all rain amounts 6.192543867383352\n",
      "mean of sample of rain amounts 2.7966666666666664\n",
      "stardard deviation of sample of rain amounts 5.718834972818127\n"
     ]
    }
   ],
   "source": [
    "print('pittsburgh stats')\n",
    "print('mean of all sunshine minutes', pgh_sunshine_sample_mean)\n",
    "print('stardard deviation of all sunshine minutes', pgh_sunshine_sample_std)\n",
    "\n",
    "print('mean of sample of sunshine minutes', pgh_sunshine_random_mean)\n",
    "print('stardard deviation of sample of sunshine minutes', pgh_sunshine_random_std)\n",
    "\n",
    "print('second variable')\n",
    "print('mean of all rain amounts', pgh_rain_sample_mean)\n",
    "print('stardard deviation of all rain amounts', pgh_rain_sample_std)\n",
    "\n",
    "print('mean of sample of rain amounts', pgh_rain_random_mean)\n",
    "print('stardard deviation of sample of rain amounts', pgh_rain_random_std)"
   ]
  },
  {
   "cell_type": "code",
   "execution_count": 12,
   "metadata": {},
   "outputs": [],
   "source": [
    "# mean/stanard deviation for sunshine data for seattle\n",
    "sea_sunshine_sample_mean = sea_sunshine_data['tsun'].mean()\n",
    "sea_sunshine_sample_std = sea_sunshine_data['tsun'].std()\n",
    "\n",
    "# mean/stanard deviation for random sample sunshine data for seattle\n",
    "sea_sunshine_random_mean = random_sea['tsun'].mean()\n",
    "sea_sunshine_random_std = random_sea['tsun'].std()\n",
    "\n",
    "#second variable prcp\n",
    "# mean/stanard deviation for prcp data for seattle\n",
    "sea_rain_sample_mean = sea_sunshine_data['prcp'].mean()\n",
    "sea_rain_sample_std = sea_sunshine_data['prcp'].std()\n",
    "\n",
    "# mean/stanard deviation for random sample prcp data for seattle\n",
    "sea_rain_random_mean = random_sea['prcp'].mean()\n",
    "sea_rain_random_std = random_sea['prcp'].std()"
   ]
  },
  {
   "cell_type": "code",
   "execution_count": 13,
   "metadata": {},
   "outputs": [
    {
     "name": "stdout",
     "output_type": "stream",
     "text": [
      "seattle stats\n",
      "mean of all sunshine minutes 367.3093349603417\n",
      "stardard deviation of all sunshine minutes 289.37957685760836\n",
      "mean of sample of sunshine minutes 361.79661016949154\n",
      "stardard deviation of sample of sunshine minutes 288.07462991749907\n",
      "second variable\n",
      "mean of all rain amounts 2.53942540671505\n",
      "stardard deviation of all rain amounts 5.837473489105912\n",
      "mean of sample of rain amounts 4.360000000000001\n",
      "stardard deviation of sample of rain amounts 7.611592407837592\n"
     ]
    }
   ],
   "source": [
    "print('seattle stats')\n",
    "print('mean of all sunshine minutes', sea_sunshine_sample_mean)\n",
    "print('stardard deviation of all sunshine minutes', sea_sunshine_sample_std)\n",
    "\n",
    "print('mean of sample of sunshine minutes', sea_sunshine_random_mean)\n",
    "print('stardard deviation of sample of sunshine minutes', sea_sunshine_random_std)\n",
    "\n",
    "print('second variable')\n",
    "print('mean of all rain amounts', sea_rain_sample_mean)\n",
    "print('stardard deviation of all rain amounts', sea_rain_sample_std)\n",
    "\n",
    "print('mean of sample of rain amounts', sea_rain_random_mean)\n",
    "print('stardard deviation of sample of rain amounts', sea_rain_random_std)"
   ]
  },
  {
   "cell_type": "code",
   "execution_count": 14,
   "metadata": {},
   "outputs": [],
   "source": [
    "#save data to EXCEL\n",
    "with pd.ExcelWriter('./data/pittsburgh_data.xlsx') as writer:\n",
    "    pgh_data.to_excel(writer, sheet_name='pittsburgh_weather')\n",
    "    pgh_sunshine_data.to_excel(writer, sheet_name='pittsburgh_sunshine')\n",
    "    random_pgh.to_excel(writer, sheet_name='pittsburgh_random')"
   ]
  },
  {
   "cell_type": "code",
   "execution_count": 15,
   "metadata": {},
   "outputs": [],
   "source": [
    "#save data to EXCEL\n",
    "with pd.ExcelWriter('./data/seattle_data.xlsx') as writer:\n",
    "    sea_data.to_excel(writer, sheet_name='seattle_weather')\n",
    "    sea_sunshine_data.to_excel(writer, sheet_name='seattle_sunshine')\n",
    "    random_sea.to_excel(writer, sheet_name='seattle_random')"
   ]
  }
 ],
 "metadata": {
  "kernelspec": {
   "display_name": "Python 3",
   "language": "python",
   "name": "python3"
  },
  "language_info": {
   "codemirror_mode": {
    "name": "ipython",
    "version": 3
   },
   "file_extension": ".py",
   "mimetype": "text/x-python",
   "name": "python",
   "nbconvert_exporter": "python",
   "pygments_lexer": "ipython3",
   "version": "3.8.5"
  }
 },
 "nbformat": 4,
 "nbformat_minor": 4
}
