{
 "cells": [
  {
   "cell_type": "code",
   "execution_count": 1,
   "metadata": {},
   "outputs": [],
   "source": [
    "import numpy as np\n",
    "import datetime\n",
    "\n",
    "#import pandas pd\n",
    "import pandas as pd "
   ]
  },
  {
   "cell_type": "code",
   "execution_count": 2,
   "metadata": {},
   "outputs": [],
   "source": [
    "#functions from my ICON project\n",
    "def rotate_array(working_array, rotate_value):\n",
    "    '''\n",
    "    rotates the ICON 90, 180 or 270 degrees\n",
    "    returns rotated ICON\n",
    "    \n",
    "    '''\n",
    "    #print(working_array)\n",
    "    if rotate_value == 1:\n",
    "        rotate_array = np.rot90(working_array)\n",
    "    elif rotate_value == 2:\n",
    "        rotate_array = np.rot90(working_array,2) \n",
    "    else:\n",
    "        rotate_array = np.rot90(working_array,3)\n",
    "    #print(rotate_array)    \n",
    "    return rotate_array\n",
    "\n",
    "def print_icon(on_print_char, off_print_char,print_array):\n",
    "    '''\n",
    "    prints the icon to the screen   \n",
    "    '''\n",
    "    \n",
    "    array_shape = np.shape(print_array)\n",
    "    #print('array_shape',array_shape)\n",
    "    shape_row = array_shape[0]\n",
    "    shape_col = array_shape[1]\n",
    "    # build string array using off_print_char as the initial value\n",
    "    output_array = np.full((shape_row,shape_col),off_print_char,dtype=str)\n",
    "    #print(output_array)\n",
    "    #print blank line\n",
    "    print('')\n",
    "    \n",
    "    for row in range(shape_row):\n",
    "        print_line=''\n",
    "        for col in range(shape_col):\n",
    "            #print('r/c', row, col)\n",
    "            if print_array[row,col] == 1:\n",
    "                output_array[row,col] = on_print_char \n",
    "            print_line=print_line+(str(output_array[row,col]))\n",
    "        print(print_line)"
   ]
  },
  {
   "cell_type": "code",
   "execution_count": 3,
   "metadata": {},
   "outputs": [
    {
     "name": "stdout",
     "output_type": "stream",
     "text": [
      "[[0 0 0 0]\n",
      " [0 0 0 0]\n",
      " [0 0 0 0]]\n",
      "(3, 4)\n",
      "[[1 0 1 0]\n",
      " [0 1 0 1]\n",
      " [1 1 1 1]]\n"
     ]
    }
   ],
   "source": [
    "#build empty 3X4 array\n",
    "test_array = np.full((3, 4),0,dtype=int)\n",
    "print(test_array)\n",
    "test_array = np.array([(1,0,1,0) , (0,1,0,1), (1,1,1,1)])\n",
    "print(np.shape(test_array)) \n",
    "print(test_array)"
   ]
  },
  {
   "cell_type": "code",
   "execution_count": 4,
   "metadata": {},
   "outputs": [
    {
     "name": "stdout",
     "output_type": "stream",
     "text": [
      "\n",
      "# # \n",
      " # #\n",
      "####\n"
     ]
    }
   ],
   "source": [
    "on_value = '#'\n",
    "off_value = ' '\n",
    "\n",
    "print_icon(on_value, off_value,test_array)"
   ]
  },
  {
   "cell_type": "code",
   "execution_count": 5,
   "metadata": {},
   "outputs": [
    {
     "data": {
      "text/html": [
       "<div>\n",
       "<style scoped>\n",
       "    .dataframe tbody tr th:only-of-type {\n",
       "        vertical-align: middle;\n",
       "    }\n",
       "\n",
       "    .dataframe tbody tr th {\n",
       "        vertical-align: top;\n",
       "    }\n",
       "\n",
       "    .dataframe thead th {\n",
       "        text-align: right;\n",
       "    }\n",
       "</style>\n",
       "<table border=\"1\" class=\"dataframe\">\n",
       "  <thead>\n",
       "    <tr style=\"text-align: right;\">\n",
       "      <th></th>\n",
       "      <th>0</th>\n",
       "      <th>1</th>\n",
       "      <th>2</th>\n",
       "      <th>3</th>\n",
       "    </tr>\n",
       "  </thead>\n",
       "  <tbody>\n",
       "    <tr>\n",
       "      <th>0</th>\n",
       "      <td>1</td>\n",
       "      <td>0</td>\n",
       "      <td>1</td>\n",
       "      <td>0</td>\n",
       "    </tr>\n",
       "    <tr>\n",
       "      <th>1</th>\n",
       "      <td>0</td>\n",
       "      <td>1</td>\n",
       "      <td>0</td>\n",
       "      <td>1</td>\n",
       "    </tr>\n",
       "    <tr>\n",
       "      <th>2</th>\n",
       "      <td>1</td>\n",
       "      <td>1</td>\n",
       "      <td>1</td>\n",
       "      <td>1</td>\n",
       "    </tr>\n",
       "  </tbody>\n",
       "</table>\n",
       "</div>"
      ],
      "text/plain": [
       "   0  1  2  3\n",
       "0  1  0  1  0\n",
       "1  0  1  0  1\n",
       "2  1  1  1  1"
      ]
     },
     "execution_count": 5,
     "metadata": {},
     "output_type": "execute_result"
    }
   ],
   "source": [
    "#change to dataframe\n",
    "\n",
    "test_array_df = pd.DataFrame(test_array)\n",
    "\n",
    "#print\n",
    "test_array_df"
   ]
  },
  {
   "cell_type": "code",
   "execution_count": 6,
   "metadata": {},
   "outputs": [
    {
     "name": "stdout",
     "output_type": "stream",
     "text": [
      " 1  0  1  0\n",
      " 0  1  0  1\n",
      " 1  1  1  1\n"
     ]
    }
   ],
   "source": [
    "#print with no headers or index\n",
    "print(test_array_df.to_string(index=False,header=False))\n"
   ]
  },
  {
   "cell_type": "code",
   "execution_count": 7,
   "metadata": {},
   "outputs": [],
   "source": [
    "# change my array to pandas dataframe\n",
    "# maybe better way to print since pandas has lots of options\n",
    "test_array2_df = pd.DataFrame(rotate_array(test_array,1))\n"
   ]
  },
  {
   "cell_type": "code",
   "execution_count": 8,
   "metadata": {},
   "outputs": [
    {
     "data": {
      "text/html": [
       "<div>\n",
       "<style scoped>\n",
       "    .dataframe tbody tr th:only-of-type {\n",
       "        vertical-align: middle;\n",
       "    }\n",
       "\n",
       "    .dataframe tbody tr th {\n",
       "        vertical-align: top;\n",
       "    }\n",
       "\n",
       "    .dataframe thead th {\n",
       "        text-align: right;\n",
       "    }\n",
       "</style>\n",
       "<table border=\"1\" class=\"dataframe\">\n",
       "  <thead>\n",
       "    <tr style=\"text-align: right;\">\n",
       "      <th></th>\n",
       "      <th>0</th>\n",
       "      <th>1</th>\n",
       "      <th>2</th>\n",
       "    </tr>\n",
       "  </thead>\n",
       "  <tbody>\n",
       "    <tr>\n",
       "      <th>0</th>\n",
       "      <td>0</td>\n",
       "      <td>1</td>\n",
       "      <td>1</td>\n",
       "    </tr>\n",
       "    <tr>\n",
       "      <th>1</th>\n",
       "      <td>1</td>\n",
       "      <td>0</td>\n",
       "      <td>1</td>\n",
       "    </tr>\n",
       "    <tr>\n",
       "      <th>2</th>\n",
       "      <td>0</td>\n",
       "      <td>1</td>\n",
       "      <td>1</td>\n",
       "    </tr>\n",
       "    <tr>\n",
       "      <th>3</th>\n",
       "      <td>1</td>\n",
       "      <td>0</td>\n",
       "      <td>1</td>\n",
       "    </tr>\n",
       "  </tbody>\n",
       "</table>\n",
       "</div>"
      ],
      "text/plain": [
       "   0  1  2\n",
       "0  0  1  1\n",
       "1  1  0  1\n",
       "2  0  1  1\n",
       "3  1  0  1"
      ]
     },
     "execution_count": 8,
     "metadata": {},
     "output_type": "execute_result"
    }
   ],
   "source": [
    "test_array2_df"
   ]
  },
  {
   "cell_type": "code",
   "execution_count": 9,
   "metadata": {},
   "outputs": [
    {
     "name": "stdout",
     "output_type": "stream",
     "text": [
      " 0  1  1\n",
      " 1  0  1\n",
      " 0  1  1\n",
      " 1  0  1\n"
     ]
    }
   ],
   "source": [
    "print(test_array2_df.to_string(index=False,header=False))"
   ]
  }
 ],
 "metadata": {
  "kernelspec": {
   "display_name": "Python 3",
   "language": "python",
   "name": "python3"
  },
  "language_info": {
   "codemirror_mode": {
    "name": "ipython",
    "version": 3
   },
   "file_extension": ".py",
   "mimetype": "text/x-python",
   "name": "python",
   "nbconvert_exporter": "python",
   "pygments_lexer": "ipython3",
   "version": "3.8.5"
  }
 },
 "nbformat": 4,
 "nbformat_minor": 4
}
